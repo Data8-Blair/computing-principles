{
 "cells": [
  {
   "cell_type": "markdown",
   "metadata": {},
   "source": [
    "# Lab - Exploring the file system\n",
    "\n",
    "In this lab sheet, we will use the `pathlib` module to explore the file system.\n",
    "\n",
    "Eventually, you will use your knowledge of recursion to print a tree view of a file structure."
   ]
  },
  {
   "cell_type": "markdown",
   "metadata": {},
   "source": [
    "## A quick look at `strings`\n",
    "\n",
    "If we want to display text - we always require a string to do that.\n",
    "\n",
    "Often, strings are produced without any intervention, but in the background a method has been called.\n",
    "\n",
    "Let's look at a few string methods - enough to work though this lab - then we can build on this knowledge later."
   ]
  },
  {
   "cell_type": "markdown",
   "metadata": {},
   "source": [
    "## String literals\n",
    "\n",
    "You create a string literal simply by enclosing some characters in quotes:\n",
    "\n",
    "`mystring = \"hello, world!\"`\n",
    "\n",
    "Single or double quotes are both permitted, but try to stick to one choice for code consistency.\n",
    "This means you can include one style quote within a string.\n",
    "\n",
    "`mystring = 'he shouted... \"DUCK!\"'`\n",
    "\n",
    "Python strings can display unicode characters using an *escape*."
   ]
  },
  {
   "cell_type": "code",
   "execution_count": null,
   "metadata": {},
   "outputs": [],
   "source": [
    "\"circle: \\u25EF\""
   ]
  },
  {
   "cell_type": "markdown",
   "metadata": {},
   "source": [
    "You might find some useful unicode characters here:\n",
    "\n",
    "<https://www.utf8-chartable.de/unicode-utf8-table.pl?start=9472&unicodeinhtml=dec>\n",
    "\n",
    "## String methods\n",
    "\n",
    "There are many methods on strings, to see what they are run the cell below:"
   ]
  },
  {
   "cell_type": "code",
   "execution_count": null,
   "metadata": {},
   "outputs": [],
   "source": [
    "help(\"str\")"
   ]
  },
  {
   "cell_type": "markdown",
   "metadata": {},
   "source": [
    "Strings are *immutable*. That means you can't change a string, only substitute it with a different version.\n",
    "\n",
    "Lets look at a few methods that will be useful to us today: `replace`, `split` and `join`."
   ]
  },
  {
   "cell_type": "code",
   "execution_count": null,
   "metadata": {},
   "outputs": [],
   "source": [
    "s1 = \"this is a string\"\n",
    "s2 = s1.replace(\"a\", \"my\")\n",
    "print(\"This is the original string, it wasn't changed because strings are immutable:\\n\\t\", s1)\n",
    "print(\"We replace part of the first string, and returns a new string:\\n\\t\", s2)"
   ]
  },
  {
   "cell_type": "markdown",
   "metadata": {},
   "source": [
    "In the simplest case, we can join strings with a `+`. "
   ]
  },
  {
   "cell_type": "code",
   "execution_count": null,
   "metadata": {},
   "outputs": [],
   "source": [
    "joined = \"this string\" + \"plus this string\"\n",
    "\n",
    "print(joined)"
   ]
  },
  {
   "cell_type": "markdown",
   "metadata": {},
   "source": [
    "### Note\n",
    "We can only join all strings like this, **not** strings and other types."
   ]
  },
  {
   "cell_type": "code",
   "execution_count": null,
   "metadata": {},
   "outputs": [],
   "source": [
    "fail = \"try to join an integer: \" + 123"
   ]
  },
  {
   "cell_type": "markdown",
   "metadata": {},
   "source": [
    "I should have used an extra space in there... Or, maybe the `join` method.\n",
    "\n",
    "The `join` method allows you to join a list of strings, and put some characters between each item."
   ]
  },
  {
   "cell_type": "code",
   "execution_count": null,
   "metadata": {},
   "outputs": [],
   "source": [
    "parts = [\"these\", \"are\", \"each\", \"strings\"]\n",
    "joined = \" : \".join(parts)\n",
    "\n",
    "print(joined)"
   ]
  },
  {
   "cell_type": "markdown",
   "metadata": {},
   "source": [
    "The `split` method does the opposite of join - you choose some characters that can split the string, and it returns a list:"
   ]
  },
  {
   "cell_type": "code",
   "execution_count": null,
   "metadata": {},
   "outputs": [],
   "source": [
    "long_string = \"val1, val2, val3, val4\"\n",
    "split_list = long_string.split(\", \")\n",
    "\n",
    "print(type(split_list), split_list)"
   ]
  },
  {
   "cell_type": "markdown",
   "metadata": {},
   "source": [
    "# CAUTION \n",
    "\n",
    "## Manipulating your file system can be *dangerous!!!*\n",
    "\n",
    "This lab task only asks you to print values from your system.\n",
    "\n",
    "If you **choose** to explore the functions of the `Path` object, take great care, it is possible to delete or replace files without warning.\n"
   ]
  },
  {
   "cell_type": "markdown",
   "metadata": {},
   "source": [
    "# Today's task\n",
    "\n",
    "We will write a function that recursively explores the file system, and prints a \"tree\" displaying the hierarchy.\n",
    "\n",
    "\n",
    "## Example\n",
    "\n",
    "```\n",
    "root\n",
    "|--  file_5_3_1.txt\n",
    "|--  file_5_3_0.txt\n",
    "|--  file_5_3_2.txt\n",
    "|--  path_5_3_0\n",
    "|    |--  file_4_3_2.txt\n",
    "|    |--  file_4_3_1.txt\n",
    "|    |--  file_4_3_0.txt\n",
    "|    |--  path_4_3_0\n",
    "|    |    |--  file_3_3_0.txt\n",
    "|    |    |--  file_3_3_1.txt\n",
    "|    |    |--  file_3_3_2.txt\n",
    "|    |    |--  path_3_3_0\n",
    "|    |    |    |--  file_2_3_2.txt\n",
    "|    |    |    |--  file_2_3_0.txt\n",
    "|    |    |    |--  file_2_3_1.txt\n",
    "|    |    |    |--  path_2_3_0\n",
    "|    |    |    |    |--  file_1_3_0.txt\n",
    "\n",
    "... many more ...\n",
    "\n",
    "```\n",
    "\n",
    "\n",
    "Use the `pathlib` module, with the `Path` object.\n",
    "\n",
    "\n",
    "The Path object has many useful methods - you know now how to find help.\n",
    "\n",
    "For today's task we only need a few of those methods, let's take a look.\n",
    "\n",
    "\n",
    "The methods we are interested in are `is_dir` and `iterdir`.\n",
    "\n",
    "We we also use the attribute `parts` which holds each part of a path object in a tuple. \n",
    "\n",
    "If you have unzipped the lab file to get to this notebook - there is also a test directory called \"root\". \n",
    "\n",
    "We will explore this directory."
   ]
  },
  {
   "cell_type": "code",
   "execution_count": null,
   "metadata": {},
   "outputs": [],
   "source": [
    "# First import the Path class\n",
    "\n",
    "from pathlib import Path"
   ]
  },
  {
   "cell_type": "code",
   "execution_count": null,
   "metadata": {},
   "outputs": [],
   "source": [
    "# instantiate a path object\n",
    "\n",
    "path = Path(\"root\")"
   ]
  },
  {
   "cell_type": "code",
   "execution_count": null,
   "metadata": {},
   "outputs": [],
   "source": [
    "# let's look at the parts of the path\n",
    "# parts is a tuple\n",
    "\n",
    "print(type(path.parts), path.parts)"
   ]
  },
  {
   "cell_type": "code",
   "execution_count": null,
   "metadata": {},
   "outputs": [],
   "source": [
    "# confirm that path is a directory\n",
    "\n",
    "print(path.is_dir())"
   ]
  },
  {
   "cell_type": "code",
   "execution_count": null,
   "metadata": {},
   "outputs": [],
   "source": [
    "# we can loop over the contents of the directory\n",
    "# each item returned from the iterator is itself a path object.\n",
    "\n",
    "for p in path.iterdir():\n",
    "    print(type(p), p.parts)"
   ]
  },
  {
   "cell_type": "markdown",
   "metadata": {},
   "source": [
    "# Write a function to print the directory tree\n",
    "\n",
    "We now have enough to complete the task.\n",
    "\n",
    "I will provide some starter code.\n",
    "\n",
    "I suggest this is a recursive function, so you need to recognise what are the base cases and the recursive steps.\n",
    "\n",
    "1. Base cases return directly from the function arguments.\n",
    "2. Recursive steps move the arguments closer to the base case.\n",
    "\n",
    "I will point out that you can not look into a file, so that will be a base case.\n",
    "\n",
    "You need to print everything you encounter - that will be a base case.\n",
    "\n",
    "You can look into a directory, so these will be recursive steps.\n",
    "\n",
    "As you recurse, you need to print some sort of **prefix string** that indicates the parent child structure.\n",
    "\n",
    "Look at the example output above to get an idea of how that might work, \n",
    "although it's up to you how you want it to look. Maybe some unicode characters?\n",
    "\n",
    "I **strongly** suggest you apply a depth limit - important if you point at another folder on your system.\n",
    "There can be a very deep hierarchy to explore.\n",
    "\n",
    "The depth limit and the prefix string will be arguments that must move as you recurse.\n",
    "\n",
    "starter code below:"
   ]
  },
  {
   "cell_type": "code",
   "execution_count": null,
   "metadata": {},
   "outputs": [],
   "source": [
    "def print_tree(path, depth_limit, prefix=\"\"):\n",
    "    \"\"\"Recursively print the directory tree of path.\"\"\"\n",
    "\n",
    "    # always print - but just the last part\n",
    "    print(prefix, path.parts[-1])\n",
    "\n",
    "    if depth_limit < 1:\n",
    "        return\n",
    "    \n",
    "    if not path.is_dir():\n",
    "        return\n",
    "\n",
    "    for p in path.iterdir():\n",
    "        ...\n",
    "      # fill in the recursive call here\n",
    "    "
   ]
  },
  {
   "cell_type": "code",
   "execution_count": null,
   "metadata": {},
   "outputs": [],
   "source": [
    "# run your code\n",
    "\n",
    "path = Path(\"root\")\n",
    "print_tree(path, depth_limit=3)"
   ]
  }
 ],
 "metadata": {
  "kernelspec": {
   "display_name": "Python 3",
   "language": "python",
   "name": "python3"
  },
  "language_info": {
   "codemirror_mode": {
    "name": "ipython",
    "version": 3
   },
   "file_extension": ".py",
   "mimetype": "text/x-python",
   "name": "python",
   "nbconvert_exporter": "python",
   "pygments_lexer": "ipython3",
   "version": "3.8.5"
  }
 },
 "nbformat": 4,
 "nbformat_minor": 2
}
