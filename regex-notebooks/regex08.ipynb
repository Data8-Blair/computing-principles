{
 "cells": [
  {
   "cell_type": "code",
   "execution_count": null,
   "metadata": {},
   "outputs": [],
   "source": [
    "import re\n",
    "from ipywidgets import interact, widgets\n",
    "from IPython.display import display"
   ]
  },
  {
   "cell_type": "code",
   "execution_count": null,
   "metadata": {},
   "outputs": [],
   "source": [
    "with open(\"data/BBC_news_home.html\") as fid:\n",
    "    data = fid.read()"
   ]
  },
  {
   "cell_type": "markdown",
   "metadata": {},
   "source": [
    "# Parsing HTML\n",
    "\n",
    "You can't reliably parse HTML with regexes. HTML is not a regular language and hence cannot be parsed by regular expressions.\n",
    "\n",
    "Regular expressions are a tool that is insufficiently sophisticated to understand the constructs employed by HTML.\n",
    "\n",
    "It is only suitable for extracting small portions of text.\n",
    "\n",
    "If you really need to parse HTML, use Beautiful Soup.\n",
    "\n",
    "http://www.crummy.com/software/BeautifulSoup/bs4/\n"
   ]
  },
  {
   "cell_type": "code",
   "execution_count": null,
   "metadata": {},
   "outputs": [],
   "source": [
    "# depending on how strictly you need to match email addresses\n",
    "email_pattern1 = re.compile(r\"[a-zA-Z0-9_.+-]+@[a-zA-Z0-9-]+\\.[a-zA-Z0-9-.]+\")\n",
    "email_pattern2 = re.compile(r\"[\\w.+-]+@[\\w-]+\\.[\\w.-]+\")"
   ]
  },
  {
   "cell_type": "code",
   "execution_count": null,
   "metadata": {},
   "outputs": [],
   "source": [
    "# literal open, any letter, one or more letters or nums\n",
    "tag_pattern1 = re.compile(r\"<[A-Za-z][A-Za-z0-9]*>\")\n",
    "\n",
    "# literal open, one or more any character but not close, then literal close\n",
    "tag_pattern2 = re.compile(r\"<[^>]+>\")\n",
    "\n",
    "# literal open,d, i, v - one or more any character but not close, then literal close\n",
    "# might want to think carefully what comes after the opening tag before the closing tag\n",
    "div_pattern = re.compile(r\"<div[^>]+>\")\n",
    "\n",
    "# span tags with the contents\n",
    "span_pattern = re.compile(r\"<sp[^>]+>.*</sp[^>]+>\")"
   ]
  },
  {
   "cell_type": "code",
   "execution_count": null,
   "metadata": {},
   "outputs": [],
   "source": [
    "span_pattern = re.compile(r\"<sp[^>]+>.*</sp[^>]+>\")\n",
    "matches = span_pattern.findall(data)\n",
    "\n",
    "matches"
   ]
  },
  {
   "cell_type": "markdown",
   "metadata": {},
   "source": [
    "# Text widget to explore the data interactively"
   ]
  },
  {
   "cell_type": "code",
   "execution_count": null,
   "metadata": {},
   "outputs": [],
   "source": [
    "pat = widgets.Text(\n",
    "    value='',\n",
    "    placeholder='type pattern here',\n",
    "    description='pattern:',\n",
    "    disabled=False\n",
    ")\n",
    "\n",
    "result = widgets.Textarea(\n",
    "    value='results',\n",
    "    rows=11,\n",
    "    disabled=False\n",
    ")\n",
    "\n",
    "def callback(wdgt):\n",
    "    pattern = re.compile(wdgt.value)\n",
    "    matches = pattern.findall(data)\n",
    "    n = len(matches)\n",
    "    more = [\"\" if n < 10 else f\"and {n-10} more...\"]\n",
    "    # show escape characters      \n",
    "    msg = \" \\n\".join(matches[:10] + more).encode().decode('unicode_escape')\n",
    "    result.value = msg if n else \"none found..\"\n",
    "\n",
    "pat.on_submit(callback)\n",
    "out = widgets.VBox([pat, result])\n",
    "display(out)"
   ]
  },
  {
   "cell_type": "code",
   "execution_count": null,
   "metadata": {},
   "outputs": [],
   "source": []
  }
 ],
 "metadata": {
  "kernelspec": {
   "display_name": "Python 3",
   "language": "python",
   "name": "python3"
  },
  "language_info": {
   "codemirror_mode": {
    "name": "ipython",
    "version": 3
   },
   "file_extension": ".py",
   "mimetype": "text/x-python",
   "name": "python",
   "nbconvert_exporter": "python",
   "pygments_lexer": "ipython3",
   "version": "3.8.5"
  }
 },
 "nbformat": 4,
 "nbformat_minor": 4
}
