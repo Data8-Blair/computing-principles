{
 "cells": [
  {
   "cell_type": "markdown",
   "metadata": {},
   "source": [
    "# Plotting with Matplotlib\n",
    "\n",
    "Matplotlib is a comprehensive library for creating static, animated, and interactive visualizations in Python."
   ]
  },
  {
   "cell_type": "markdown",
   "metadata": {},
   "source": [
    "### Figures and Axes\n",
    "\n",
    "We create a `figure` which is the full area of an image, and we plot data to `axes`.\n",
    "\n",
    "A `figure` can have a number of `axes`, you  are not restricted to just one plot.\n",
    "\n",
    "<img src=\"https://matplotlib.org/stable/_images/sphx_glr_anatomy_001.png\" width=\"600\">\n",
    "\n",
    "This entire image is made with Matplotlib, the source code is here:\n",
    "\n",
    "[https://matplotlib.org/stable/gallery/showcase/anatomy.html](https://matplotlib.org/stable/gallery/showcase/anatomy.html)\n",
    "\n",
    "\n",
    "#### Documentation\n",
    "\n",
    "Matplolib is a big library, but it does have a huge user base and comphrehensive documentation. \n",
    "\n",
    "You can view the current documentation here:\n",
    "[https://matplotlib.org/stable/index.html](https://matplotlib.org/stable/index.html)"
   ]
  },
  {
   "cell_type": "markdown",
   "metadata": {},
   "source": [
    "### Lets start by importing matplotlib. \n",
    "\n",
    "In fact, the submodule pyplot, that provides access to all the parts of a plot.\n",
    "\n",
    "It is a convention to alias the import to `plt`."
   ]
  },
  {
   "cell_type": "code",
   "execution_count": null,
   "metadata": {},
   "outputs": [],
   "source": [
    "import matplotlib.pyplot as plt\n",
    "\n",
    "# some global settings just for this notebook\n",
    "plt.rcParams[\"figure.dpi\"] = 100\n",
    "plt.rcParams[\"figure.figsize\"] = (7, 5)\n",
    "plt.style.use(\"default\")"
   ]
  },
  {
   "cell_type": "markdown",
   "metadata": {},
   "source": [
    "### Creating Figures and Axes\n",
    "\n",
    "There is an object-oriented interface to access parts of plots. I'll mention there is also a state based interface - this is to provide some familiarty to MATLAB users - unless you need this, don't use it. \n",
    "\n",
    "I prefer to start plotting using the `subplots` function, even if I'm only creating one plot. It keeps the code consistent."
   ]
  },
  {
   "cell_type": "code",
   "execution_count": null,
   "metadata": {},
   "outputs": [],
   "source": [
    "fig, ax = plt.subplots()"
   ]
  },
  {
   "cell_type": "markdown",
   "metadata": {},
   "source": [
    "### Data\n",
    "The previous cell produced an empty plot - because we did not plot any data. Lets do that now."
   ]
  },
  {
   "cell_type": "code",
   "execution_count": null,
   "metadata": {},
   "outputs": [],
   "source": [
    "x = [1, 2, 3, 4, 5]\n",
    "y = [1, 2, 3, 4, 5]\n",
    "\n",
    "fig, ax = plt.subplots()\n",
    "ax.plot(x, y);"
   ]
  },
  {
   "cell_type": "markdown",
   "metadata": {},
   "source": [
    "We can also make a scatter plot"
   ]
  },
  {
   "cell_type": "code",
   "execution_count": null,
   "metadata": {},
   "outputs": [],
   "source": [
    "x = [1, 2, 3, 4, 5]\n",
    "y = [1, 2, 3, 4, 5]\n",
    "\n",
    "fig, ax = plt.subplots()\n",
    "ax.scatter(x, y);"
   ]
  },
  {
   "cell_type": "markdown",
   "metadata": {},
   "source": [
    "We can set a marker style to create lines with visible data points."
   ]
  },
  {
   "cell_type": "code",
   "execution_count": null,
   "metadata": {},
   "outputs": [],
   "source": [
    "x = [1, 2, 3, 4, 5]\n",
    "y = [1, 2, 3, 4, 5]\n",
    "\n",
    "fig, ax = plt.subplots()\n",
    "ax.plot(x, y, marker=\"+\");"
   ]
  },
  {
   "cell_type": "markdown",
   "metadata": {},
   "source": [
    "We can plot more that one line on any axes."
   ]
  },
  {
   "cell_type": "code",
   "execution_count": null,
   "metadata": {},
   "outputs": [],
   "source": [
    "x = [1, 2, 3, 4, 5]\n",
    "y1 = [1, 2, 3, 4, 5]\n",
    "y2 = [1, 4, 9, 16, 25]\n",
    "\n",
    "fig, ax = plt.subplots()\n",
    "ax.plot(x, y1, marker=\"+\")\n",
    "ax.plot(x, y2, marker=\"o\");"
   ]
  },
  {
   "cell_type": "markdown",
   "metadata": {},
   "source": [
    "It is important to annotate our figures correctly"
   ]
  },
  {
   "cell_type": "code",
   "execution_count": null,
   "metadata": {},
   "outputs": [],
   "source": [
    "fig, ax = plt.subplots()\n",
    "ax.plot(x, y1, marker=\"+\", label=\"numbers\")\n",
    "ax.plot(x, y2, marker=\"o\", label=\"squares\")\n",
    "ax.set_title(\"Squared Numbers\")\n",
    "ax.set_xlabel(\"X axis\")\n",
    "ax.set_ylabel(\"Y axis\")\n",
    "ax.legend();"
   ]
  },
  {
   "cell_type": "markdown",
   "metadata": {},
   "source": [
    "We already said there is a `scatter` function to to make scatter plots.\n",
    "\n",
    "It is possible to make scatter plots just by removing the line segment from line plots.\n",
    "\n",
    "Not necessarily better, but a useful alternative.\n"
   ]
  },
  {
   "cell_type": "code",
   "execution_count": null,
   "metadata": {},
   "outputs": [],
   "source": [
    "fig, ax = plt.subplots()\n",
    "ax.plot(x, y1, linestyle=\"None\", marker=\"+\", label=\"numbers\")\n",
    "ax.plot(x, y2, linestyle=\"None\", marker=\"o\", label=\"squares\")\n",
    "ax.set_title(\"Squared Numbers - No line style\")\n",
    "ax.set_xlabel(\"X axis\")\n",
    "ax.set_ylabel(\"Y axis\")\n",
    "ax.legend();"
   ]
  },
  {
   "cell_type": "markdown",
   "metadata": {},
   "source": [
    "The previous cell hints at the fact you can set styles for lines as well as markers."
   ]
  },
  {
   "cell_type": "code",
   "execution_count": null,
   "metadata": {},
   "outputs": [],
   "source": [
    "fig, ax = plt.subplots()\n",
    "ax.plot(x, y1, linestyle=\"--\", marker=\"+\", label=\"numbers\")\n",
    "ax.plot(x, y2, linestyle=\"-.\", marker=\"o\", label=\"squares\")\n",
    "ax.set_title(\"Squared Numbers - using line style\")\n",
    "ax.set_xlabel(\"X axis\")\n",
    "ax.set_ylabel(\"Y axis\")\n",
    "ax.legend();"
   ]
  },
  {
   "cell_type": "markdown",
   "metadata": {},
   "source": [
    "There is a complete guide to linestyles here:\n",
    "\n",
    "[https://matplotlib.org/stable/gallery/lines_bars_and_markers/linestyles.html](https://matplotlib.org/stable/gallery/lines_bars_and_markers/linestyles.html)\n",
    "\n",
    "And of course, marker styles here:\n",
    "\n",
    "[https://matplotlib.org/stable/gallery/lines_bars_and_markers/marker_reference.html](https://matplotlib.org/stable/gallery/lines_bars_and_markers/marker_reference.html)"
   ]
  },
  {
   "cell_type": "markdown",
   "metadata": {},
   "source": [
    "There is a compact shorthand for linestyle and markerstyle.\n",
    "\n",
    "They can be specified together, in a string, and passsed as a positional argument after the data args."
   ]
  },
  {
   "cell_type": "code",
   "execution_count": null,
   "metadata": {},
   "outputs": [],
   "source": [
    "fig, ax = plt.subplots()\n",
    "ax.plot(x, y1, \"--+\", label=\"numbers\")\n",
    "ax.plot(x, y2, \"-.o\", label=\"squares\")\n",
    "ax.set_title(\"Squared Numbers - using style shorthand\")\n",
    "ax.set_xlabel(\"X axis\")\n",
    "ax.set_ylabel(\"Y axis\")\n",
    "ax.legend();"
   ]
  },
  {
   "cell_type": "markdown",
   "metadata": {},
   "source": [
    "# Multiple Subplots\n",
    "\n",
    "It is very often the case we want to show many plots, but not on the same axes."
   ]
  },
  {
   "cell_type": "code",
   "execution_count": null,
   "metadata": {},
   "outputs": [],
   "source": [
    "fig, (ax1, ax2) = plt.subplots(nrows=2, ncols=1)\n",
    "ax1.plot(x, y1, \"--+\", label=\"numbers\")\n",
    "ax2.plot(x, y2, \"-.o\", label=\"squares\");"
   ]
  },
  {
   "cell_type": "markdown",
   "metadata": {},
   "source": [
    "In the previous cell we used `tuple expansion` to access the individual axes objects.\n",
    " \n",
    "This is convenient for smaller scale plots, but we can also use \n",
    "`indexing` because multiple axes are contained in a `numpy` array. "
   ]
  },
  {
   "cell_type": "code",
   "execution_count": null,
   "metadata": {},
   "outputs": [],
   "source": [
    "fig, axs = plt.subplots(nrows=2, ncols=1)"
   ]
  },
  {
   "cell_type": "code",
   "execution_count": null,
   "metadata": {},
   "outputs": [],
   "source": [
    "print(type(axs))"
   ]
  },
  {
   "cell_type": "markdown",
   "metadata": {},
   "source": [
    "You can see that we have both plots in one figure. \n",
    "\n",
    "Sometimes we want to share the axis scale across more than one plot.\n",
    "\n",
    "If we do this, we share the tick labels of the axis."
   ]
  },
  {
   "cell_type": "code",
   "execution_count": null,
   "metadata": {},
   "outputs": [],
   "source": [
    "fig, axs = plt.subplots(nrows=2, ncols=1, sharex=True)"
   ]
  },
  {
   "cell_type": "markdown",
   "metadata": {},
   "source": [
    "Furthermore, if we want to have a grid of plots, we can share both axes.\n",
    "\n",
    "Take care that it makes sense to align each axis if you do this."
   ]
  },
  {
   "cell_type": "code",
   "execution_count": null,
   "metadata": {},
   "outputs": [],
   "source": [
    "fig, axs = plt.subplots(nrows=2, ncols=2, sharex=True, sharey=True)"
   ]
  },
  {
   "cell_type": "markdown",
   "metadata": {},
   "source": [
    "The next cell shows how we combine indexing, and sharing to fill each subplot."
   ]
  },
  {
   "cell_type": "code",
   "execution_count": null,
   "metadata": {},
   "outputs": [],
   "source": [
    "x = [1, 2, 3, 4, 5]\n",
    "y0 = [2, 2, 2, 2, 2]\n",
    "y1 = [1, 2, 3, 4, 5]\n",
    "y2 = [1, 4, 9, 16, 25]\n",
    "y3 = [1, 8, 27, 64, 125]\n",
    "\n",
    "fig, axs = plt.subplots(nrows=2, ncols=2, sharex=True, sharey=True)\n",
    "axs[0, 0].plot(x, y0, marker=\"+\")\n",
    "axs[0, 1].plot(x, y1, marker=\".\")\n",
    "axs[1, 0].plot(x, y2, marker=\"+\")\n",
    "axs[1, 1].plot(x, y3, marker=\".\");"
   ]
  },
  {
   "cell_type": "markdown",
   "metadata": {},
   "source": [
    "Clearly, if we want to address many subplots the code can get out of hand.\n",
    "\n",
    "It is possible, and recommended, to loop over each of the axes.\n",
    "You can apply any logic as necessary.\n"
   ]
  },
  {
   "cell_type": "code",
   "execution_count": null,
   "metadata": {},
   "outputs": [],
   "source": [
    "data = [y0, y1, y2, y3]\n",
    "markers = [\"+\", \".\", \"x\", \"o\"]\n",
    "\n",
    "fig, axs = plt.subplots(nrows=2, ncols=2, sharex=True, sharey=True)\n",
    "fig.suptitle(\"Plot Four Axes\")\n",
    "\n",
    "for i, ax in enumerate(axs.flat):\n",
    "    ax.plot(x, data[i], marker=markers[i])\n",
    "    ax.set_title(f\"plot {i}\")\n",
    "    if i > 1:\n",
    "        ax.set_xlabel(\"X axis\")\n",
    "    if i % 2 == 0:\n",
    "        ax.set_ylabel(\"Y axis\")"
   ]
  },
  {
   "cell_type": "markdown",
   "metadata": {},
   "source": [
    "Usually we will want to save a figure, perhaps to include it in a document or web page.\n",
    "\n",
    "We save using the `savefig` method of the figure object. \n",
    "The file type is guessed at from the given file name, or you can set it explicitly.\n",
    "There are also options for setting resolution etc., check the documentation for full details."
   ]
  },
  {
   "cell_type": "code",
   "execution_count": null,
   "metadata": {},
   "outputs": [],
   "source": [
    "fig.savefig(\"myplot.jpg\")"
   ]
  },
  {
   "cell_type": "markdown",
   "metadata": {},
   "source": [
    "## Gridspec\n",
    "What if we need more control over the layout of subplots?\n",
    "\n",
    "The `gridspec` function allows us greater control over the layout of subplots.\n",
    "\n",
    "We create a uniform grid, then each subplot occupies one or more `cells` of that grid."
   ]
  },
  {
   "cell_type": "code",
   "execution_count": null,
   "metadata": {},
   "outputs": [],
   "source": [
    "# start with an empty figure\n",
    "fig = plt.figure(figsize=[8, 8])\n",
    "\n",
    "# create the grid specification - a 3x3 layout\n",
    "gs = fig.add_gridspec(3, 3)\n",
    "\n",
    "# now add the subplots\n",
    "ax1 = fig.add_subplot(gs[0, :])\n",
    "ax2 = fig.add_subplot(gs[1, :-1])\n",
    "ax3 = fig.add_subplot(gs[1:, -1])\n",
    "ax4 = fig.add_subplot(gs[-1, 0])\n",
    "ax5 = fig.add_subplot(gs[-1, -2])\n",
    "\n",
    "# I will talk about the indexing..."
   ]
  },
  {
   "cell_type": "markdown",
   "metadata": {},
   "source": [
    "The figure object still exists in memory, so we can make adjustments after it was displayed."
   ]
  },
  {
   "cell_type": "code",
   "execution_count": null,
   "metadata": {},
   "outputs": [],
   "source": [
    "def format_axes(fig):\n",
    "    \"\"\"Loop through each figure axes and:\n",
    "        remove the tick labels, \n",
    "        add some text in the center of each plot,\n",
    "        apply a colour to each plot background.\"\"\"\n",
    "\n",
    "    for i, ax in enumerate(fig.axes):\n",
    "        cols = [\"#ddddff\", \"#ddffdd\", \"#ffdddd\"]\n",
    "        ax.tick_params(labelbottom=False, labelleft=False)\n",
    "        ax.text(0.5, 0.5, \"ax%d\" % (i+1), va=\"center\", ha=\"center\")\n",
    "        ax.set_facecolor(cols[i % 3])\n",
    "\n",
    "\n",
    "format_axes(fig)\n",
    "fig.suptitle(\"Formatted Gridspec Figure\", y=0.92)\n",
    "# notebooks implicitly display the last item in a cell\n",
    "fig"
   ]
  },
  {
   "cell_type": "markdown",
   "metadata": {},
   "source": [
    "# Conclusion\n",
    "\n",
    "We have looked at matplotlib and explored some good practices.\n",
    "\n",
    "There is a lot more to matplotlib - check the documentation, the cheatsheets and... try it!!"
   ]
  },
  {
   "cell_type": "markdown",
   "metadata": {},
   "source": [
    "# Bonus - Plot Styles\n",
    "\n",
    "Matplotlib comes with a number of styles. You can list them, set them globally or just use them for the current plot with a context."
   ]
  },
  {
   "cell_type": "code",
   "execution_count": null,
   "metadata": {},
   "outputs": [],
   "source": [
    "# the list of available styles\n",
    "plt.style.available"
   ]
  },
  {
   "cell_type": "code",
   "execution_count": null,
   "metadata": {},
   "outputs": [],
   "source": [
    "# set to use style from here\n",
    "plt.style.use(\"ggplot\")\n",
    "\n",
    "fig, ax = plt.subplots(figsize=[7, 5], dpi=100)\n",
    "ax.plot([1, 2, 3, 4, 5]);"
   ]
  },
  {
   "cell_type": "code",
   "execution_count": null,
   "metadata": {},
   "outputs": [],
   "source": [
    "# just use this style within a context for this one plot\n",
    "with plt.style.context(\"dark_background\"):\n",
    "    fig, ax = plt.subplots(figsize=[7, 5], dpi=100)\n",
    "    ax.plot([1, 2, 3, 4, 5]);"
   ]
  },
  {
   "cell_type": "code",
   "execution_count": null,
   "metadata": {},
   "outputs": [],
   "source": [
    "# back to the style we previously set\n",
    "fig, ax = plt.subplots(figsize=[7, 5], dpi=100)\n",
    "ax.plot([1, 2, 3, 4, 5]);"
   ]
  }
 ],
 "metadata": {
  "kernelspec": {
   "display_name": "Python 3",
   "language": "python",
   "name": "python3"
  },
  "language_info": {
   "codemirror_mode": {
    "name": "ipython",
    "version": 3
   },
   "file_extension": ".py",
   "mimetype": "text/x-python",
   "name": "python",
   "nbconvert_exporter": "python",
   "pygments_lexer": "ipython3",
   "version": "3.8.5"
  }
 },
 "nbformat": 4,
 "nbformat_minor": 2
}